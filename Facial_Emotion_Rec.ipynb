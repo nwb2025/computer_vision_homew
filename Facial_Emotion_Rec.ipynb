{
 "cells": [
  {
   "cell_type": "markdown",
   "id": "b3f49594",
   "metadata": {},
   "source": [
    "<b><h1>Facial Emotion Recogniton"
   ]
  },
  {
   "cell_type": "code",
   "execution_count": 1,
   "id": "ebd2deea",
   "metadata": {},
   "outputs": [
    {
     "name": "stdout",
     "output_type": "stream",
     "text": [
      "Init Plugin\n",
      "Init Graph Optimizer\n",
      "Init Kernel\n"
     ]
    }
   ],
   "source": [
    "# importing all the neccessary libraries\n",
    "\n",
    "import pandas as pd\n",
    "import numpy as np\n",
    "import matplotlib.pyplot as plt\n",
    "\n",
    "import tensorflow as tf\n",
    "from tensorflow.keras.preprocessing import image\n",
    "from tensorflow.keras.preprocessing.image import ImageDataGenerator\n",
    "from tensorflow.keras.models import Sequential\n",
    "from tensorflow.keras.layers import Conv2D, MaxPooling2D\n",
    "from tensorflow.keras.layers import Dense, Activation, Dropout, Flatten\n",
    "from tensorflow.keras.layers import BatchNormalization\n",
    "from tensorflow.keras.optimizers import *\n",
    "from tensorflow.keras.callbacks import Callback, EarlyStopping\n",
    "\n",
    "import scikitplot\n",
    "import seaborn as sns\n",
    "from sklearn.model_selection  import train_test_split\n",
    "from sklearn.metrics import classification_report, accuracy_score"
   ]
  },
  {
   "cell_type": "markdown",
   "id": "7be1affe",
   "metadata": {},
   "source": [
    "<b>1. Подготовим данные (датасет взят c kaggle.com)"
   ]
  },
  {
   "cell_type": "code",
   "execution_count": 2,
   "id": "93112d0d",
   "metadata": {},
   "outputs": [
    {
     "data": {
      "text/html": [
       "<div>\n",
       "<style scoped>\n",
       "    .dataframe tbody tr th:only-of-type {\n",
       "        vertical-align: middle;\n",
       "    }\n",
       "\n",
       "    .dataframe tbody tr th {\n",
       "        vertical-align: top;\n",
       "    }\n",
       "\n",
       "    .dataframe thead th {\n",
       "        text-align: right;\n",
       "    }\n",
       "</style>\n",
       "<table border=\"1\" class=\"dataframe\">\n",
       "  <thead>\n",
       "    <tr style=\"text-align: right;\">\n",
       "      <th></th>\n",
       "      <th>emotion</th>\n",
       "      <th>pixels</th>\n",
       "      <th>Usage</th>\n",
       "    </tr>\n",
       "  </thead>\n",
       "  <tbody>\n",
       "    <tr>\n",
       "      <th>0</th>\n",
       "      <td>0</td>\n",
       "      <td>70 80 82 72 58 58 60 63 54 58 60 48 89 115 121...</td>\n",
       "      <td>Training</td>\n",
       "    </tr>\n",
       "    <tr>\n",
       "      <th>1</th>\n",
       "      <td>0</td>\n",
       "      <td>151 150 147 155 148 133 111 140 170 174 182 15...</td>\n",
       "      <td>Training</td>\n",
       "    </tr>\n",
       "    <tr>\n",
       "      <th>2</th>\n",
       "      <td>2</td>\n",
       "      <td>231 212 156 164 174 138 161 173 182 200 106 38...</td>\n",
       "      <td>Training</td>\n",
       "    </tr>\n",
       "    <tr>\n",
       "      <th>3</th>\n",
       "      <td>4</td>\n",
       "      <td>24 32 36 30 32 23 19 20 30 41 21 22 32 34 21 1...</td>\n",
       "      <td>Training</td>\n",
       "    </tr>\n",
       "    <tr>\n",
       "      <th>4</th>\n",
       "      <td>6</td>\n",
       "      <td>4 0 0 0 0 0 0 0 0 0 0 0 3 15 23 28 48 50 58 84...</td>\n",
       "      <td>Training</td>\n",
       "    </tr>\n",
       "  </tbody>\n",
       "</table>\n",
       "</div>"
      ],
      "text/plain": [
       "   emotion                                             pixels     Usage\n",
       "0        0  70 80 82 72 58 58 60 63 54 58 60 48 89 115 121...  Training\n",
       "1        0  151 150 147 155 148 133 111 140 170 174 182 15...  Training\n",
       "2        2  231 212 156 164 174 138 161 173 182 200 106 38...  Training\n",
       "3        4  24 32 36 30 32 23 19 20 30 41 21 22 32 34 21 1...  Training\n",
       "4        6  4 0 0 0 0 0 0 0 0 0 0 0 3 15 23 28 48 50 58 84...  Training"
      ]
     },
     "execution_count": 2,
     "metadata": {},
     "output_type": "execute_result"
    }
   ],
   "source": [
    "data = pd.read_csv('./fer2013.csv')\n",
    "data.head(5)"
   ]
  },
  {
   "cell_type": "code",
   "execution_count": 3,
   "id": "e77cee97",
   "metadata": {},
   "outputs": [
    {
     "name": "stdout",
     "output_type": "stream",
     "text": [
      "Total num of entries: 35887\n",
      "Num of features: 48\n",
      "Num of classes: 7\n"
     ]
    }
   ],
   "source": [
    "img_width, img_height = 48, 48\n",
    "\n",
    "# getting only the second column with raw pixels and converting it to list\n",
    "pixel_rows = data['pixels'].tolist()\n",
    "\n",
    "# converting each value of every row to int and eventually to \n",
    "X = []\n",
    "for pixel_row in pixel_rows:\n",
    "    px_r = []\n",
    "    for p in pixel_row.split(' '):\n",
    "        px_r.append(int(p))\n",
    "    px_r = np.asarray(px_r).reshape(img_width, img_height)\n",
    "    X.append(px_r.astype('float32'))\n",
    "\n",
    "X = np.asarray(X)\n",
    "X = np.expand_dims(X, -1)\n",
    "\n",
    "# getting labels\n",
    "Y = pd.get_dummies(data['emotion']).to_numpy()\n",
    "\n",
    "print(\"Total num of entries: {}\".format( str(len(X))))\n",
    "print(\"Num of features: {}\".format( str(len(X[0]))))\n",
    "print(\"Num of classes: {}\".format( str(len(Y[0]))))"
   ]
  },
  {
   "cell_type": "code",
   "execution_count": 4,
   "id": "5d4efb0b",
   "metadata": {},
   "outputs": [],
   "source": [
    "# Normalazing the data set\n",
    "X -= np.mean(X, axis=0)\n",
    "X /= np.std(X, axis=0)"
   ]
  },
  {
   "cell_type": "code",
   "execution_count": 5,
   "id": "45290f9b",
   "metadata": {},
   "outputs": [
    {
     "data": {
      "image/png": "[encoded data removed]",
      "text/plain": [
       "<Figure size 432x288 with 1 Axes>"
      ]
     },
     "metadata": {
      "needs_background": "light"
     },
     "output_type": "display_data"
    },
    {
     "data": {
      "image/png": "[encoded data removed]",
      "text/plain": [
       "<Figure size 432x288 with 1 Axes>"
      ]
     },
     "metadata": {
      "needs_background": "light"
     },
     "output_type": "display_data"
    },
    {
     "data": {
      "image/png": "[encoded data removed]",
      "text/plain": [
       "<Figure size 432x288 with 1 Axes>"
      ]
     },
     "metadata": {
      "needs_background": "light"
     },
     "output_type": "display_data"
    },
    {
     "data": {
      "image/png": "[encoded data removed]",
      "text/plain": [
       "<Figure size 432x288 with 1 Axes>"
      ]
     },
     "metadata": {
      "needs_background": "light"
     },
     "output_type": "display_data"
    },
    {
     "data": {
      "image/png": "[encoded data removed]",
      "text/plain": [
       "<Figure size 432x288 with 1 Axes>"
      ]
     },
     "metadata": {
      "needs_background": "light"
     },
     "output_type": "display_data"
    }
   ],
   "source": [
    "# Plotting 5 examples of the data set\n",
    "for i in range(5):\n",
    "    plt.figure(i)\n",
    "    plt.imshow(X[i].reshape((48, 48)), interpolation='none', cmap='gray')\n",
    "plt.show()"
   ]
  },
  {
   "cell_type": "code",
   "execution_count": 6,
   "id": "6231504a",
   "metadata": {},
   "outputs": [
    {
     "name": "stdout",
     "output_type": "stream",
     "text": [
      "(29068, 48, 48, 1) (3589, 48, 48, 1) (3230, 48, 48, 1)\n"
     ]
    }
   ],
   "source": [
    "# Splitting the data set into train validation and test sets\n",
    "# 20 % ratio  for valid and test datasets it's too much \n",
    "\n",
    "X_train, X_valid, Y_train, Y_valid = train_test_split(X, Y,\n",
    "                                       test_size=0.1,\n",
    "                                       shuffle=True, random_state=41)\n",
    "\n",
    "X_train, X_test, Y_train, Y_test = train_test_split(X_train, Y_train,\n",
    "                                       test_size=0.1,\n",
    "                                       shuffle=True, random_state=41)\n",
    "\n",
    "print(X_train.shape, X_valid.shape, X_test.shape)"
   ]
  },
  {
   "cell_type": "markdown",
   "id": "f2d92d6c",
   "metadata": {},
   "source": [
    "<b>2. Теперь опишем архитектуру сети"
   ]
  },
  {
   "cell_type": "markdown",
   "id": "7e6bed1b",
   "metadata": {},
   "source": [
    "Сеть имеет:\n",
    "\n",
    "* 6 сверточных слоев \n",
    "* 1 полносвязаный Dense слой со 64 выходами\n",
    "* слой разворачивания - принимает 64 карты признаков 3x3 и выдает вектор  1 x 3 * 3 * 64\n",
    "* выходной слой с 7 перцептронами (выходами) с функцией активации softmax (мультиклассификация) \n",
    "* optimizer - adam\n",
    "* loss функция - categorical_crossentropy\n",
    "\n",
    "Дополнительные особенности архитектуры нейронной сети: \n",
    "\n",
    "* размер ядра (фильтра)  3 * 3\n",
    "* функция активации на каждом сверточном слое - relu\n",
    "* батч нормализация, после каждого слоя \n",
    "* функция активации relu после каждого слоя\n",
    "* добавлен  1 Dropout слой с вероятностью 0.15\n",
    "* pooling ( MaxPooling) 2 x 2\n",
    "* был добавлен сallback для ранней остановки модели\n",
    "* обучение по минибатчам ( с размером 32)"
   ]
  },
  {
   "cell_type": "code",
   "execution_count": 24,
   "id": "4baebdd5",
   "metadata": {},
   "outputs": [],
   "source": [
    "def build_model():\n",
    "    model = Sequential()\n",
    "    \n",
    "    model.add(\n",
    "        Conv2D(\n",
    "            filters = 256,\n",
    "            kernel_size = (3,3),\n",
    "            input_shape = ( 48, 48, 1) ,\n",
    "            activation = 'relu',\n",
    "            padding = 'same' \n",
    "        )\n",
    "    )\n",
    "    \n",
    "    model.add(BatchNormalization())\n",
    "    model.add(Activation('relu'))\n",
    "    \n",
    "    model.add(\n",
    "        Conv2D(\n",
    "            filters = 256,\n",
    "            kernel_size = (3,3),\n",
    "            activation = 'relu',\n",
    "            padding = 'same' \n",
    "        )\n",
    "    )\n",
    "    \n",
    "        \n",
    "    model.add(BatchNormalization())\n",
    "    model.add(Activation('relu'))\n",
    "    model.add(MaxPooling2D(pool_size=(2, 2)))\n",
    "    \n",
    "    model.add(\n",
    "        Conv2D(\n",
    "            filters = 128,\n",
    "            kernel_size = (3,3),\n",
    "            activation = 'relu',\n",
    "            padding = 'same' \n",
    "        )  \n",
    "    )\n",
    "    \n",
    "    model.add(BatchNormalization())\n",
    "    model.add(Activation('relu'))\n",
    "    \n",
    "    model.add(\n",
    "        Conv2D(\n",
    "            filters = 128,\n",
    "            kernel_size = (3,3),\n",
    "            activation = 'relu',\n",
    "            padding = 'same' \n",
    "        )\n",
    "    )\n",
    "        \n",
    "    model.add(BatchNormalization())\n",
    "    model.add(Activation('relu'))\n",
    "    model.add(MaxPooling2D(pool_size=(2, 2)))\n",
    "    \n",
    "    \n",
    "    model.add(\n",
    "        Conv2D(\n",
    "            filters =  64,\n",
    "            kernel_size = (3, 3),\n",
    "            activation = 'relu',\n",
    "            padding = 'same' \n",
    "        )  \n",
    "    )\n",
    "    \n",
    "    model.add(BatchNormalization())\n",
    "    model.add(Activation('relu'))\n",
    "    \n",
    "    model.add(\n",
    "        Conv2D(\n",
    "            filters = 64,\n",
    "            kernel_size = (3, 3),\n",
    "            activation = 'relu',\n",
    "            padding = 'same' \n",
    "        )\n",
    "    )\n",
    "        \n",
    "    model.add(BatchNormalization())\n",
    "    model.add(Activation('relu'))\n",
    "    model.add(MaxPooling2D(pool_size=(2, 2)))\n",
    "    \n",
    "    model.add(Flatten())\n",
    "    \n",
    "    model.add(\n",
    "        Dense(\n",
    "            64,\n",
    "            activation='relu',\n",
    "        )\n",
    "    )\n",
    "    model.add(BatchNormalization())\n",
    "    model.add(Activation('relu'))\n",
    "    model.add(\n",
    "        Dropout(0.15)\n",
    "    )\n",
    "    \n",
    "    model.add(\n",
    "        Dense(\n",
    "            7,\n",
    "            activation='softmax',\n",
    "        )\n",
    "    )\n",
    "    \n",
    "    \n",
    "    model.compile(\n",
    "        loss='categorical_crossentropy',\n",
    "        optimizer=Adam( learning_rate = 0.001 ),\n",
    "        metrics=['accuracy']\n",
    "    )\n",
    "    \n",
    "    model.summary()\n",
    "     \n",
    "    return model"
   ]
  },
  {
   "cell_type": "markdown",
   "id": "586d7b8a",
   "metadata": {},
   "source": [
    "<b>3. Проведем тренеровку нейросети"
   ]
  },
  {
   "cell_type": "code",
   "execution_count": 25,
   "id": "b3a1f8fe",
   "metadata": {},
   "outputs": [
    {
     "name": "stdout",
     "output_type": "stream",
     "text": [
      "Model: \"sequential_1\"\n",
      "_________________________________________________________________\n",
      "Layer (type)                 Output Shape              Param #   \n",
      "=================================================================\n",
      "conv2d_6 (Conv2D)            (None, 48, 48, 256)       2560      \n",
      "_________________________________________________________________\n",
      "batch_normalization_7 (Batch (None, 48, 48, 256)       1024      \n",
      "_________________________________________________________________\n",
      "activation_7 (Activation)    (None, 48, 48, 256)       0         \n",
      "_________________________________________________________________\n",
      "conv2d_7 (Conv2D)            (None, 48, 48, 256)       590080    \n",
      "_________________________________________________________________\n",
      "batch_normalization_8 (Batch (None, 48, 48, 256)       1024      \n",
      "_________________________________________________________________\n",
      "activation_8 (Activation)    (None, 48, 48, 256)       0         \n",
      "_________________________________________________________________\n",
      "max_pooling2d_3 (MaxPooling2 (None, 24, 24, 256)       0         \n",
      "_________________________________________________________________\n",
      "conv2d_8 (Conv2D)            (None, 24, 24, 128)       295040    \n",
      "_________________________________________________________________\n",
      "batch_normalization_9 (Batch (None, 24, 24, 128)       512       \n",
      "_________________________________________________________________\n",
      "activation_9 (Activation)    (None, 24, 24, 128)       0         \n",
      "_________________________________________________________________\n",
      "conv2d_9 (Conv2D)            (None, 24, 24, 128)       147584    \n",
      "_________________________________________________________________\n",
      "batch_normalization_10 (Batc (None, 24, 24, 128)       512       \n",
      "_________________________________________________________________\n",
      "activation_10 (Activation)   (None, 24, 24, 128)       0         \n",
      "_________________________________________________________________\n",
      "max_pooling2d_4 (MaxPooling2 (None, 12, 12, 128)       0         \n",
      "_________________________________________________________________\n",
      "conv2d_10 (Conv2D)           (None, 12, 12, 64)        73792     \n",
      "_________________________________________________________________\n",
      "batch_normalization_11 (Batc (None, 12, 12, 64)        256       \n",
      "_________________________________________________________________\n",
      "activation_11 (Activation)   (None, 12, 12, 64)        0         \n",
      "_________________________________________________________________\n",
      "conv2d_11 (Conv2D)           (None, 12, 12, 64)        36928     \n",
      "_________________________________________________________________\n",
      "batch_normalization_12 (Batc (None, 12, 12, 64)        256       \n",
      "_________________________________________________________________\n",
      "activation_12 (Activation)   (None, 12, 12, 64)        0         \n",
      "_________________________________________________________________\n",
      "max_pooling2d_5 (MaxPooling2 (None, 6, 6, 64)          0         \n",
      "_________________________________________________________________\n",
      "flatten_1 (Flatten)          (None, 2304)              0         \n",
      "_________________________________________________________________\n",
      "dense_2 (Dense)              (None, 64)                147520    \n",
      "_________________________________________________________________\n",
      "batch_normalization_13 (Batc (None, 64)                256       \n",
      "_________________________________________________________________\n",
      "activation_13 (Activation)   (None, 64)                0         \n",
      "_________________________________________________________________\n",
      "dropout_1 (Dropout)          (None, 64)                0         \n",
      "_________________________________________________________________\n",
      "dense_3 (Dense)              (None, 7)                 455       \n",
      "=================================================================\n",
      "Total params: 1,297,799\n",
      "Trainable params: 1,295,879\n",
      "Non-trainable params: 1,920\n",
      "_________________________________________________________________\n",
      "Model: \"sequential_1\"\n",
      "_________________________________________________________________\n",
      "Layer (type)                 Output Shape              Param #   \n",
      "=================================================================\n",
      "conv2d_6 (Conv2D)            (None, 48, 48, 256)       2560      \n",
      "_________________________________________________________________\n",
      "batch_normalization_7 (Batch (None, 48, 48, 256)       1024      \n",
      "_________________________________________________________________\n",
      "activation_7 (Activation)    (None, 48, 48, 256)       0         \n",
      "_________________________________________________________________\n",
      "conv2d_7 (Conv2D)            (None, 48, 48, 256)       590080    \n",
      "_________________________________________________________________\n",
      "batch_normalization_8 (Batch (None, 48, 48, 256)       1024      \n",
      "_________________________________________________________________\n",
      "activation_8 (Activation)    (None, 48, 48, 256)       0         \n",
      "_________________________________________________________________\n",
      "max_pooling2d_3 (MaxPooling2 (None, 24, 24, 256)       0         \n",
      "_________________________________________________________________\n",
      "conv2d_8 (Conv2D)            (None, 24, 24, 128)       295040    \n",
      "_________________________________________________________________\n",
      "batch_normalization_9 (Batch (None, 24, 24, 128)       512       \n",
      "_________________________________________________________________\n",
      "activation_9 (Activation)    (None, 24, 24, 128)       0         \n",
      "_________________________________________________________________\n",
      "conv2d_9 (Conv2D)            (None, 24, 24, 128)       147584    \n",
      "_________________________________________________________________\n",
      "batch_normalization_10 (Batc (None, 24, 24, 128)       512       \n",
      "_________________________________________________________________\n",
      "activation_10 (Activation)   (None, 24, 24, 128)       0         \n",
      "_________________________________________________________________\n",
      "max_pooling2d_4 (MaxPooling2 (None, 12, 12, 128)       0         \n",
      "_________________________________________________________________\n",
      "conv2d_10 (Conv2D)           (None, 12, 12, 64)        73792     \n",
      "_________________________________________________________________\n",
      "batch_normalization_11 (Batc (None, 12, 12, 64)        256       \n",
      "_________________________________________________________________\n",
      "activation_11 (Activation)   (None, 12, 12, 64)        0         \n",
      "_________________________________________________________________\n",
      "conv2d_11 (Conv2D)           (None, 12, 12, 64)        36928     \n",
      "_________________________________________________________________\n",
      "batch_normalization_12 (Batc (None, 12, 12, 64)        256       \n",
      "_________________________________________________________________\n",
      "activation_12 (Activation)   (None, 12, 12, 64)        0         \n",
      "_________________________________________________________________\n",
      "max_pooling2d_5 (MaxPooling2 (None, 6, 6, 64)          0         \n",
      "_________________________________________________________________\n",
      "flatten_1 (Flatten)          (None, 2304)              0         \n",
      "_________________________________________________________________\n",
      "dense_2 (Dense)              (None, 64)                147520    \n",
      "_________________________________________________________________\n",
      "batch_normalization_13 (Batc (None, 64)                256       \n",
      "_________________________________________________________________\n",
      "activation_13 (Activation)   (None, 64)                0         \n",
      "_________________________________________________________________\n",
      "dropout_1 (Dropout)          (None, 64)                0         \n",
      "_________________________________________________________________\n",
      "dense_3 (Dense)              (None, 7)                 455       \n",
      "=================================================================\n",
      "Total params: 1,297,799\n",
      "Trainable params: 1,295,879\n",
      "Non-trainable params: 1,920\n",
      "_________________________________________________________________\n"
     ]
    }
   ],
   "source": [
    "model = build_model() \n",
    "model.summary()"
   ]
  },
  {
   "cell_type": "markdown",
   "id": "65314cc9",
   "metadata": {},
   "source": [
    "Добавим callback для ранней остановки во избежании пееробучения"
   ]
  },
  {
   "cell_type": "code",
   "execution_count": 9,
   "id": "ea6a2e4d",
   "metadata": {},
   "outputs": [],
   "source": [
    "callback = [\n",
    "    EarlyStopping(\n",
    "        monitor='val_accuracy',\n",
    "        min_delta=0.00005,\n",
    "        patience=11,\n",
    "        verbose=1,\n",
    "        restore_best_weights=True)\n",
    "]"
   ]
  },
  {
   "cell_type": "code",
   "execution_count": 10,
   "id": "4401c5d8",
   "metadata": {},
   "outputs": [
    {
     "name": "stderr",
     "output_type": "stream",
     "text": [
      "2022-01-02 07:51:23.549833: I tensorflow/compiler/mlir/mlir_graph_optimization_pass.cc:176] None of the MLIR Optimization Passes are enabled (registered 2)\n",
      "2022-01-02 07:51:23.552547: W tensorflow/core/platform/profile_utils/cpu_utils.cc:128] Failed to get CPU frequency: 0 Hz\n"
     ]
    },
    {
     "name": "stdout",
     "output_type": "stream",
     "text": [
      "Epoch 1/150\n"
     ]
    },
    {
     "name": "stderr",
     "output_type": "stream",
     "text": [
      "2022-01-02 07:51:23.814751: I tensorflow/core/grappler/optimizers/custom_graph_optimizer_registry.cc:112] Plugin optimizer for device_type GPU is enabled.\n"
     ]
    },
    {
     "name": "stdout",
     "output_type": "stream",
     "text": [
      "909/909 [==============================] - ETA: 0s - loss: 1.5567 - accuracy: 0.4026"
     ]
    },
    {
     "name": "stderr",
     "output_type": "stream",
     "text": [
      "2022-01-02 07:55:20.945129: I tensorflow/core/grappler/optimizers/custom_graph_optimizer_registry.cc:112] Plugin optimizer for device_type GPU is enabled.\n"
     ]
    },
    {
     "name": "stdout",
     "output_type": "stream",
     "text": [
      "909/909 [==============================] - 245s 269ms/step - loss: 1.5567 - accuracy: 0.4026 - val_loss: 1.5893 - val_accuracy: 0.4232\n",
      "Epoch 2/150\n",
      "909/909 [==============================] - 243s 267ms/step - loss: 1.2638 - accuracy: 0.5202 - val_loss: 1.2552 - val_accuracy: 0.5302\n",
      "Epoch 3/150\n",
      "909/909 [==============================] - 239s 263ms/step - loss: 1.1160 - accuracy: 0.5809 - val_loss: 1.1851 - val_accuracy: 0.5645\n",
      "Epoch 4/150\n",
      "909/909 [==============================] - 240s 264ms/step - loss: 1.0134 - accuracy: 0.6222 - val_loss: 1.1952 - val_accuracy: 0.5598\n",
      "Epoch 5/150\n",
      "909/909 [==============================] - 239s 263ms/step - loss: 0.9183 - accuracy: 0.6564 - val_loss: 1.1653 - val_accuracy: 0.5756\n",
      "Epoch 6/150\n",
      "909/909 [==============================] - 241s 266ms/step - loss: 0.7806 - accuracy: 0.7090 - val_loss: 1.1404 - val_accuracy: 0.5999\n",
      "Epoch 7/150\n",
      "909/909 [==============================] - 246s 271ms/step - loss: 0.6518 - accuracy: 0.7620 - val_loss: 1.2207 - val_accuracy: 0.5801\n",
      "Epoch 8/150\n",
      "909/909 [==============================] - 259s 285ms/step - loss: 0.5300 - accuracy: 0.8098 - val_loss: 1.3085 - val_accuracy: 0.5885\n",
      "Epoch 9/150\n",
      "909/909 [==============================] - 273s 300ms/step - loss: 0.4009 - accuracy: 0.8565 - val_loss: 1.3810 - val_accuracy: 0.5963\n",
      "Epoch 10/150\n",
      "909/909 [==============================] - 271s 298ms/step - loss: 0.3273 - accuracy: 0.8854 - val_loss: 1.5689 - val_accuracy: 0.5938\n",
      "Epoch 11/150\n",
      "909/909 [==============================] - 240s 264ms/step - loss: 0.2636 - accuracy: 0.9082 - val_loss: 1.5737 - val_accuracy: 0.5913\n",
      "Epoch 12/150\n",
      "909/909 [==============================] - 271s 298ms/step - loss: 0.2254 - accuracy: 0.9210 - val_loss: 1.8260 - val_accuracy: 0.5809\n",
      "Epoch 13/150\n",
      "909/909 [==============================] - 270s 297ms/step - loss: 0.2054 - accuracy: 0.9285 - val_loss: 1.8476 - val_accuracy: 0.5804\n",
      "Epoch 14/150\n",
      "909/909 [==============================] - 237s 261ms/step - loss: 0.1718 - accuracy: 0.9418 - val_loss: 1.8636 - val_accuracy: 0.5971\n",
      "Epoch 15/150\n",
      "909/909 [==============================] - 232s 256ms/step - loss: 0.1643 - accuracy: 0.9430 - val_loss: 1.9526 - val_accuracy: 0.5957\n",
      "Epoch 16/150\n",
      "909/909 [==============================] - 245s 269ms/step - loss: 0.1470 - accuracy: 0.9485 - val_loss: 1.9932 - val_accuracy: 0.6074\n",
      "Epoch 17/150\n",
      "909/909 [==============================] - 268s 294ms/step - loss: 0.1246 - accuracy: 0.9579 - val_loss: 2.1597 - val_accuracy: 0.6057\n",
      "Epoch 18/150\n",
      "909/909 [==============================] - 256s 282ms/step - loss: 0.1511 - accuracy: 0.9482 - val_loss: 2.1622 - val_accuracy: 0.6124\n",
      "Epoch 19/150\n",
      "909/909 [==============================] - 266s 293ms/step - loss: 0.1314 - accuracy: 0.9557 - val_loss: 2.2336 - val_accuracy: 0.5991\n",
      "Epoch 20/150\n",
      "909/909 [==============================] - 250s 275ms/step - loss: 0.1087 - accuracy: 0.9634 - val_loss: 2.3059 - val_accuracy: 0.5932\n",
      "Epoch 21/150\n",
      "909/909 [==============================] - 234s 258ms/step - loss: 0.1004 - accuracy: 0.9677 - val_loss: 2.2476 - val_accuracy: 0.6052\n",
      "Epoch 22/150\n",
      "909/909 [==============================] - 233s 256ms/step - loss: 0.1002 - accuracy: 0.9662 - val_loss: 2.3423 - val_accuracy: 0.5993\n",
      "Epoch 23/150\n",
      "909/909 [==============================] - 235s 259ms/step - loss: 0.1065 - accuracy: 0.9636 - val_loss: 2.3275 - val_accuracy: 0.5954\n",
      "Epoch 24/150\n",
      "909/909 [==============================] - 236s 260ms/step - loss: 0.0919 - accuracy: 0.9681 - val_loss: 2.1878 - val_accuracy: 0.6041\n",
      "Epoch 25/150\n",
      "909/909 [==============================] - 234s 257ms/step - loss: 0.1149 - accuracy: 0.9623 - val_loss: 2.3277 - val_accuracy: 0.6027\n",
      "Epoch 26/150\n",
      "909/909 [==============================] - 242s 266ms/step - loss: 0.0921 - accuracy: 0.9680 - val_loss: 2.2412 - val_accuracy: 0.6027\n",
      "Epoch 27/150\n",
      "909/909 [==============================] - 245s 269ms/step - loss: 0.0695 - accuracy: 0.9776 - val_loss: 2.4216 - val_accuracy: 0.5932\n",
      "Epoch 28/150\n",
      "909/909 [==============================] - 253s 279ms/step - loss: 0.0796 - accuracy: 0.9733 - val_loss: 2.5812 - val_accuracy: 0.5988\n",
      "Epoch 29/150\n",
      "909/909 [==============================] - 246s 271ms/step - loss: 0.0871 - accuracy: 0.9704 - val_loss: 2.4614 - val_accuracy: 0.5963\n",
      "Restoring model weights from the end of the best epoch.\n",
      "Epoch 00029: early stopping\n"
     ]
    },
    {
     "data": {
      "text/plain": [
       "<tensorflow.python.keras.callbacks.History at 0x293f0fa30>"
      ]
     },
     "execution_count": 10,
     "metadata": {},
     "output_type": "execute_result"
    }
   ],
   "source": [
    "batch_size = 32 # batch size of 32 performs the best\n",
    "epochs = 150\n",
    "\n",
    "\n",
    "model.fit( X_train, Y_train,\n",
    "         validation_data = (X_valid, Y_valid),\n",
    "         epochs = epochs,\n",
    "         batch_size = batch_size,\n",
    "         verbose = 1,\n",
    "         callbacks = callback,\n",
    "         shuffle = True)\n"
   ]
  },
  {
   "cell_type": "markdown",
   "id": "472626ac",
   "metadata": {},
   "source": [
    "Сохраним модель после обучения для дальнейшего использования"
   ]
  },
  {
   "cell_type": "code",
   "execution_count": 14,
   "id": "644ace5a",
   "metadata": {},
   "outputs": [],
   "source": [
    "model_yaml = model.to_yaml()\n",
    "\n",
    "with open(\"fer_model.yaml\", \"w\") as yaml_file:\n",
    "    yaml_file.write(model_yaml)"
   ]
  },
  {
   "cell_type": "markdown",
   "id": "83d30a4d",
   "metadata": {},
   "source": [
    "<b>4. Протестируем полученную модель\n"
   ]
  },
  {
   "cell_type": "code",
   "execution_count": 13,
   "id": "de68290f",
   "metadata": {},
   "outputs": [
    {
     "name": "stdout",
     "output_type": "stream",
     "text": [
      "CNN Model Accuracy on test set: 0.5929\n"
     ]
    }
   ],
   "source": [
    "test_true = np.argmax(Y_test, axis=1)\n",
    "test_pred = np.argmax(model.predict(X_test), axis=1)\n",
    "print(\"CNN Model Accuracy on test set: {:.4f}\".format(accuracy_score(test_true, test_pred)))"
   ]
  },
  {
   "cell_type": "code",
   "execution_count": 23,
   "id": "226f8122",
   "metadata": {},
   "outputs": [
    {
     "data": {
      "image/png": "[encoded data removed]",
      "text/plain": [
       "<Figure size 432x288 with 1 Axes>"
      ]
     },
     "metadata": {
      "needs_background": "light"
     },
     "output_type": "display_data"
    },
    {
     "name": "stdout",
     "output_type": "stream",
     "text": [
      "Predicted value: neutral\n"
     ]
    }
   ],
   "source": [
    "from skimage import io\n",
    "\n",
    "emotions = ('angrer', 'disgust', 'fear', 'happiness', 'sadness', 'surprise', 'neutral')\n",
    "\n",
    "img = image.load_img(\"./img.png\", grayscale=True, target_size=(48, 48))\n",
    "x = image.img_to_array(img)\n",
    "x = np.expand_dims(x, axis = 0)\n",
    "\n",
    "# normalize\n",
    "x /= 255\n",
    "\n",
    "# make a prediction\n",
    "pred = model.predict(x)\n",
    "index = np.argmax(pred[0])\n",
    "\n",
    "x = np.array(x, 'float32')\n",
    "x = x.reshape([48, 48]);\n",
    "\n",
    "# plotting\n",
    "plt.gray()\n",
    "plt.imshow(img)\n",
    "plt.show()\n",
    "\n",
    "print('Predicted value:', emotions[index])"
   ]
  },
  {
   "cell_type": "markdown",
   "id": "138f52f2",
   "metadata": {},
   "source": [
    "<b>5. Выводы\n"
   ]
  },
  {
   "cell_type": "code",
   "execution_count": null,
   "id": "fa019504",
   "metadata": {},
   "outputs": [],
   "source": [
    "По результатам обучения точность предсказания модели на валидационном датасете составляет 59 процентов - что в довольно неплохо.\n",
    "Безусловно , точность предсказания  можно улучшить. Один из возможных способов - это увеличить размера датасета \n",
    "Так как датасет, который использовался для обучения - относительно небольшой ( 35887 примеров) модель склонна к переобучению \n",
    "( при больщом кол-ве итераций начинает запоминать примеры ).\n",
    "Одна из возможных мер решения данной проблемы ( переобучения) - добавление в архитектуру  сети  dropout слой.\n",
    "Что собственно и было сделано, но это незначительно улучшило точность предсказания ( примерно на 5 процентов)\n",
    "Была сделана попытка увеличить/уменьшить размер минибатча (с 32) до 64 и 16 соответсвенно - результаты в обоих случаях оказались хуже.\n",
    "Еще можно попробовать добавить регуляризацию L1 L2 и посмотреть в сторону изменения архитектуры сети."
   ]
  }
 ],
 "metadata": {
  "kernelspec": {
   "display_name": "Python 3 (ipykernel)",
   "language": "python",
   "name": "python3"
  },
  "language_info": {
   "codemirror_mode": {
    "name": "ipython",
    "version": 3
   },
   "file_extension": ".py",
   "mimetype": "text/x-python",
   "name": "python",
   "nbconvert_exporter": "python",
   "pygments_lexer": "ipython3",
   "version": "3.9.7"
  }
 },
 "nbformat": 4,
 "nbformat_minor": 5
}
